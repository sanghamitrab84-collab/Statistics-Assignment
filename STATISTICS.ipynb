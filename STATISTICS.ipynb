{
  "nbformat": 4,
  "nbformat_minor": 0,
  "metadata": {
    "colab": {
      "provenance": []
    },
    "kernelspec": {
      "name": "python3",
      "display_name": "Python 3"
    },
    "language_info": {
      "name": "python"
    }
  },
  "cells": [
    {
      "cell_type": "markdown",
      "source": [
        "Question 1: What is the difference between descriptive statistics and inferential statistics? Explain with examples.\n",
        "\n",
        "  ANS.  Statistics is a branch of mathematics that deals with the collection, analysis, interpretation, and presentation of data. It is broadly divided into two categories: descriptive statistics and inferential statistics, both of which serve different but complementary purposes.\n",
        "  Descriptive statistics refers to the methods used to summarize, organize, and describe data in a meaningful manner. It deals only with the actual data collected and does not make any predictions or generalizations. It uses measures of central tendency like mean, median, and mode, measures of dispersion like range and standard deviation, and graphical tools such as bar graphs, pie charts, and histograms. For example, if the marks of 50 students in a class are recorded, descriptive statistics can be used to calculate the average score, identify the highest and lowest marks, and represent the distribution using a histogram. This information is restricted only to that particular group.\n",
        "  In contrast, inferential statistics goes beyond the collected data and is used to draw conclusions, make predictions, or test hypotheses about a larger population based on a sample. It makes use of probability theory and techniques such as confidence intervals, hypothesis testing, regression, and ANOVA. For instance, to estimate the average height of all college students in India, instead of measuring everyone, a sample of 500 students may be studied, and inferential methods can predict the national average height with a certain level of confidence.\n",
        "  In conclusion, descriptive statistics helps in understanding and summarizing the available data, while inferential statistics allows us to generalize and make decisions about the larger population. Together, they form the foundation of statistical analysis.\n",
        "\n",
        "Question 2: What is sampling in statistics? Explain the differences between random and stratified sampling.\n",
        "\n",
        "  ANS. In statistics, sampling is the process of selecting a subset of individuals or items (called a sample) from a larger group (called the population) in order to study the characteristics of the population. Since it is often impractical or impossible to collect data from the entire population due to time, cost, or accessibility constraints, sampling provides an efficient and reliable way of making inferences about the whole group by studying only a portion of it.\n",
        "  Among various methods of sampling, random sampling and stratified sampling are widely used. In random sampling, every individual or element in the population has an equal chance of being selected, and the selection of one unit does not affect the selection of another. This method is simple and unbiased if the population is homogeneous. For example, if we want to select 100 students from a university where all students have similar backgrounds, random sampling would give a fair representation.\n",
        "  On the other hand, stratified sampling is used when the population is heterogeneous and consists of different subgroups or strata. In this method, the population is first divided into meaningful groups (such as gender, income level, or region), and then random samples are taken from each stratum in proportion to its size. For instance, if a college has 60% male and 40% female students, stratified sampling would ensure both groups are represented in the same ratio in the sample.\n",
        "  In conclusion, while random sampling treats the population as one whole, stratified sampling ensures proportional representation of distinct subgroups. Both methods are important, but the choice depends on the nature of the population being studied.\n",
        "\n",
        "Question 3: Define mean, median, and mode. Explain why these measures of central tendency are important.\n",
        "\n",
        "   ANS. In statistics, measures of central tendency are statistical values that describe the central point or typical value of a dataset. The three most common measures are mean, median, and mode, each of which provides a different perspective on the distribution of data.\n",
        "  The mean (arithmetic average) is calculated by dividing the sum of all values in a dataset by the number of values. For example, if the marks of 5 students are 40, 50, 60, 70, and 80, the mean is (40 + 50 + 60 + 70 + 80) ÷ 5 = 60. It gives a balanced point of the data but can be affected by extreme values (outliers).\n",
        "  The median is the middle value when the data is arranged in ascending or descending order. If there is an odd number of values, the middle one is the median, and if even, it is the average of the two middle values. For the same dataset (40, 50, 60, 70, 80), the median is 60. Median is useful when data has extreme values, as it is less affected by outliers.\n",
        "  The mode is the value that occurs most frequently in a dataset. For example, in the dataset 10, 20, 20, 30, 40, the mode is 20. It is particularly useful for categorical data, such as finding the most popular product or preference.\n",
        "  In conclusion, mean, median, and mode are important because they summarize large datasets into single representative values, making interpretation easier. They help in comparing different groups, identifying patterns, and supporting decision-making in fields such as business, economics, and research.\n",
        "\n",
        "Question 4: Explain skewness and kurtosis. What does a positive skew imply about the data?\n",
        "\n",
        "  ANS. In statistics, the shape of a distribution is very important for understanding the nature of data. Two important measures that describe the shape of a frequency distribution are skewness and kurtosis.\n",
        "  Skewness refers to the degree of asymmetry in a distribution. If the data is perfectly symmetrical, skewness is zero. A distribution is said to be positively skewed when the tail on the right-hand side is longer than the left, meaning that most values are concentrated on the lower side with a few very large values pulling the mean to the right. Conversely, a negatively skewed distribution has a longer tail on the left side, with most values concentrated at the higher end. For example, income distribution in a population is usually positively skewed, as most people earn moderate incomes while a few individuals earn extremely high incomes.\n",
        "  Kurtosis, on the other hand, measures the peakedness or flatness of a distribution compared to a normal distribution. A distribution with high kurtosis (leptokurtic) has a sharp peak and heavy tails, indicating more outliers. A low kurtosis (platykurtic) distribution is flatter, with fewer extreme values. The normal distribution has kurtosis defined as zero (mesokurtic).\n",
        "  A positive skew implies that the data has a longer right tail, the mean is greater than the median, and there are relatively few large values affecting the overall average. This is important in data analysis as it signals the presence of outliers and influences the choice of appropriate statistical methods.\n",
        "  In conclusion, skewness and kurtosis provide deeper insights into the distribution of data beyond simple averages, helping analysts understand asymmetry, variability, and the likelihood of extreme values.\n"
      ],
      "metadata": {
        "id": "iafXpJAAvE4I"
      }
    },
    {
      "cell_type": "markdown",
      "source": [
        "Question 5: Implement a Python program to compute the mean, median, and mode of a given list of numbers. numbers = [12, 15, 12, 18, 19, 12, 20, 22, 19, 19, 24, 24, 24, 26, 28] (Include your Python code and output in the code box below.)\n",
        "  \n",
        "  ANS. In Python, the mean, median, and mode can be calculated easily using the built-in statistics module.\n",
        "The mean is the average of the values.\n",
        "\n",
        "\n",
        "The median is the middle value when the data is arranged in order.\n",
        "\n",
        "\n",
        "The mode is the most frequently occurring value.\n",
        "\n",
        "\n",
        "The following program computes these measures for the given list of numbers.\n"
      ],
      "metadata": {
        "id": "PyXJFjuPtYoo"
      }
    },
    {
      "cell_type": "code",
      "execution_count": 4,
      "metadata": {
        "colab": {
          "base_uri": "https://localhost:8080/"
        },
        "id": "UgEdpGE4tWEp",
        "outputId": "21a78e45-d130-4bab-e9c7-3e9c5d80a375"
      },
      "outputs": [
        {
          "output_type": "stream",
          "name": "stdout",
          "text": [
            "Numbers: [12, 15, 12, 18, 19, 12, 20, 22, 19, 19, 24, 24, 24, 26, 28]\n",
            "Mean: 19.6\n",
            "Median: 19\n",
            "Mode: 12\n"
          ]
        }
      ],
      "source": [
        "# Program to compute Mean, Median, and Mode\n",
        "\n",
        "import statistics as stats\n",
        "\n",
        "# Given list of numbers\n",
        "numbers = [12, 15, 12, 18, 19, 12, 20, 22, 19, 19, 24, 24, 24, 26, 28]\n",
        "\n",
        "# Calculating Mean, Median, and Mode\n",
        "mean_val = stats.mean(numbers)      # Average\n",
        "median_val = stats.median(numbers)  # Middle value\n",
        "mode_val = stats.mode(numbers)      # Most frequent value\n",
        "\n",
        "# Display results\n",
        "print(\"Numbers:\", numbers)\n",
        "print(\"Mean:\", mean_val)\n",
        "print(\"Median:\", median_val)\n",
        "print(\"Mode:\", mode_val)\n"
      ]
    },
    {
      "cell_type": "markdown",
      "source": [
        "Question 6: Compute the covariance and correlation coefficient between the following two datasets provided as lists in Python: list_x = [10, 20, 30, 40, 50] list_y = [15, 25, 35, 45, 60] (Include your Python code and output in the code box below.)\n",
        "\n",
        "  ANS.In statistics, covariance and correlation coefficient are used to measure the relationship between two datasets.\n",
        "Covariance shows the direction of the relationship (positive or negative).\n",
        "\n",
        "\n",
        "Correlation coefficient (r) measures both the direction and the strength of the relationship, with values ranging from –1 to +1.\n",
        "The following Python program computes these values for the given lists:\n",
        "\n",
        "\n"
      ],
      "metadata": {
        "id": "BZQGj2s2uFuh"
      }
    },
    {
      "cell_type": "code",
      "source": [],
      "metadata": {
        "id": "eV5AY9KMuLvA"
      },
      "execution_count": 4,
      "outputs": []
    },
    {
      "cell_type": "code",
      "source": [
        "# Program to compute Covariance and Correlation Coefficient\n",
        "\n",
        "import numpy as np\n",
        "\n",
        "# Given datasets\n",
        "list_x = [10, 20, 30, 40, 50]\n",
        "list_y = [15, 25, 35, 45, 60]\n",
        "\n",
        "# Convert to numpy arrays\n",
        "x = np.array(list_x)\n",
        "y = np.array(list_y)\n",
        "\n",
        "# Calculate covariance matrix\n",
        "cov_matrix = np.cov(x, y, bias=True)   # bias=True for population covariance\n",
        "cov_xy = cov_matrix[0][1]             # Covariance between x and y\n",
        "\n",
        "# Calculate correlation coefficient\n",
        "corr_xy = np.corrcoef(x, y)[0][1]\n",
        "\n",
        "# Display results\n",
        "print(\"List X:\", list_x)\n",
        "print(\"List Y:\", list_y)\n",
        "print(\"Covariance:\", cov_xy)\n",
        "print(\"Correlation Coefficient:\", corr_xy)\n"
      ],
      "metadata": {
        "colab": {
          "base_uri": "https://localhost:8080/"
        },
        "id": "TG92rSM5uT9w",
        "outputId": "1d1c6742-d362-4628-aaef-5f1df67bc8c1"
      },
      "execution_count": 5,
      "outputs": [
        {
          "output_type": "stream",
          "name": "stdout",
          "text": [
            "List X: [10, 20, 30, 40, 50]\n",
            "List Y: [15, 25, 35, 45, 60]\n",
            "Covariance: 220.0\n",
            "Correlation Coefficient: 0.995893206467704\n"
          ]
        }
      ]
    },
    {
      "cell_type": "markdown",
      "source": [
        "relationship but also quantify its strength, making them powerful tools in data analysis.\n",
        "Question 7: Write a Python script to draw a boxplot for the following numeric list and identify its outliers. Explain the result: data = [12, 14, 14, 15, 18, 19, 19, 21, 22, 22, 23, 23, 24, 26, 29, 35] (Include your Python code and output in the code box below.) write for 20 marks\n",
        "\n",
        "  ANS.A boxplot is a graphical representation of the distribution of a dataset. It shows the minimum, first quartile (Q1), median (Q2), third quartile (Q3), and maximum values, and also helps identify outliers. Outliers are typically defined as values lying below Q1 – 1.5 × IQR or above Q3 + 1.5 × IQR, where IQR (Interquartile Range) = Q3 – Q1.\n",
        "The following Python script draws a boxplot for the given data and highlights any outliers:\n"
      ],
      "metadata": {
        "id": "2ubP8Wq7uXyR"
      }
    },
    {
      "cell_type": "code",
      "source": [
        "# Program to draw a boxplot and identify outliers\n",
        "\n",
        "import matplotlib.pyplot as plt\n",
        "import numpy as np\n",
        "\n",
        "# Given dataset\n",
        "data = [12, 14, 14, 15, 18, 19, 19, 21, 22, 22, 23, 23, 24, 26, 29, 35]\n",
        "\n",
        "# Draw the boxplot\n",
        "plt.boxplot(data)\n",
        "plt.title(\"Boxplot of Given Data\")\n",
        "plt.ylabel(\"Values\")\n",
        "plt.show()\n",
        "\n",
        "# Calculate quartiles and IQR\n",
        "Q1 = np.percentile(data, 25)\n",
        "Q3 = np.percentile(data, 75)\n",
        "IQR = Q3 - Q1\n",
        "\n",
        "# Identify outliers\n",
        "lower_bound = Q1 - 1.5 * IQR\n",
        "upper_bound = Q3 + 1.5 * IQR\n",
        "outliers = [x for x in data if x < lower_bound or x > upper_bound]\n",
        "\n",
        "print(\"Q1:\", Q1)\n",
        "print(\"Q3:\", Q3)\n",
        "print(\"IQR:\", IQR)\n",
        "print(\"Lower Bound:\", lower_bound)\n",
        "print(\"Upper Bound:\", upper_bound)\n",
        "print(\"Outliers:\", outliers)\n",
        "\n"
      ],
      "metadata": {
        "colab": {
          "base_uri": "https://localhost:8080/",
          "height": 556
        },
        "id": "1rLLUl0Euff5",
        "outputId": "2f7c4840-9496-4974-8362-465f158042c8"
      },
      "execution_count": 6,
      "outputs": [
        {
          "output_type": "display_data",
          "data": {
            "text/plain": [
              "<Figure size 640x480 with 1 Axes>"
            ],
            "image/png": "[encoded data removed]"
          },
          "metadata": {}
        },
        {
          "output_type": "stream",
          "name": "stdout",
          "text": [
            "Q1: 17.25\n",
            "Q3: 23.25\n",
            "IQR: 6.0\n",
            "Lower Bound: 8.25\n",
            "Upper Bound: 32.25\n",
            "Outliers: [35]\n"
          ]
        }
      ]
    },
    {
      "cell_type": "markdown",
      "source": [
        "Question 8: You are working as a data analyst in an e-commerce company. The marketing team wants to know if there is a relationship between advertising spend and daily sales. ● Explain how you would use covariance and correlation to explore this relationship. ● Write Python code to compute the correlation between the two lists: advertising_spend = [200, 250, 300, 400, 500] daily_sales = [2200, 2450, 2750, 3200, 4000]\n",
        "\n",
        "  ANS.As a data analyst, to explore the relationship between advertising spend and daily sales, we can use covariance and correlation:\n",
        "Covariance measures the direction of the relationship between two variables.\n",
        "\n",
        "\n",
        "A positive covariance means that as advertising spend increases, sales also increase.\n",
        "\n",
        "\n",
        "A negative covariance means that as advertising spend increases, sales decrease.\n",
        "\n",
        "\n",
        "The correlation coefficient not only shows the direction but also the strength of the relationship.\n",
        "\n",
        "\n",
        "It ranges from –1 to +1.\n",
        "\n",
        "\n",
        "A value close to +1 indicates a strong positive linear relationship, while a value close to –1 indicates a strong negative relationship.\n",
        "\n",
        "\n",
        "Thus, by computing covariance and correlation, we can determine whether higher advertising spend is associated with higher daily sales, and how strong that relationship is.\n",
        "The following Python code calculates the correlation:\n"
      ],
      "metadata": {
        "id": "UTZbYp5zumkg"
      }
    },
    {
      "cell_type": "code",
      "source": [
        "# Program to compute correlation between Advertising Spend and Daily Sales\n",
        "\n",
        "import numpy as np\n",
        "\n",
        "# Given datasets\n",
        "advertising_spend = [200, 250, 300, 400, 500]\n",
        "daily_sales = [2200, 2450, 2750, 3200, 4000]\n",
        "\n",
        "# Convert to numpy arrays\n",
        "x = np.array(advertising_spend)\n",
        "y = np.array(daily_sales)\n",
        "\n",
        "# Calculate covariance matrix\n",
        "cov_matrix = np.cov(x, y, bias=True)\n",
        "cov_xy = cov_matrix[0][1]\n",
        "\n",
        "# Calculate correlation coefficient\n",
        "corr_xy = np.corrcoef(x, y)[0][1]\n",
        "\n",
        "# Display results\n",
        "print(\"Advertising Spend:\", advertising_spend)\n",
        "print(\"Daily Sales:\", daily_sales)\n",
        "print(\"Covariance:\", cov_xy)\n",
        "print(\"Correlation Coefficient:\", corr_xy)\n"
      ],
      "metadata": {
        "colab": {
          "base_uri": "https://localhost:8080/"
        },
        "id": "lCXkKsRHuruo",
        "outputId": "bbb8c38c-25a5-4aee-8ae7-4c494ae9cf7b"
      },
      "execution_count": 7,
      "outputs": [
        {
          "output_type": "stream",
          "name": "stdout",
          "text": [
            "Advertising Spend: [200, 250, 300, 400, 500]\n",
            "Daily Sales: [2200, 2450, 2750, 3200, 4000]\n",
            "Covariance: 67900.0\n",
            "Correlation Coefficient: 0.9935824101653329\n"
          ]
        }
      ]
    },
    {
      "cell_type": "markdown",
      "source": [
        "Question 9: Your team has collected customer satisfaction survey data on a scale of 1-10 and wants to understand its distribution before launching a new product. ● Explain which summary statistics and visualizations (e.g. mean, standard deviation, histogram) you’d use. ● Write Python code to create a histogram using Matplotlib for the survey data: survey_scores = [7, 8, 5, 9, 6, 7, 8, 9, 10, 4, 7, 6, 9, 8, 7]\n",
        "\n",
        "  ANS.To understand the distribution of customer satisfaction scores (on a scale of 1–10), we use summary statistics and visualizations:\n",
        "Mean: Gives the average satisfaction score.\n",
        "\n",
        "\n",
        "Median: Provides the middle score, useful if data is skewed.\n",
        "\n",
        "\n",
        "Mode: Shows the most common rating, highlighting customer preference.\n",
        "\n",
        "\n",
        "Standard Deviation (SD): Measures variability—whether customers mostly agree (low SD) or opinions differ widely (high SD).\n",
        "\n",
        "\n",
        "Histogram: Visualizes the frequency of scores, making it easy to see which ratings are most common and whether the distribution is symmetrical, skewed, or concentrated.\n",
        "\n",
        "\n",
        "Together, these help management decide how satisfied customers currently are and identify patterns before launching the new product.\n",
        "The following Python script creates a histogram for the survey data:\n"
      ],
      "metadata": {
        "id": "YTH_lP9RuwRJ"
      }
    },
    {
      "cell_type": "code",
      "source": [
        "# Program to create a histogram of survey scores\n",
        "\n",
        "import matplotlib.pyplot as plt\n",
        "import numpy as np\n",
        "import statistics as stats\n",
        "\n",
        "# Given survey scores\n",
        "survey_scores = [7, 8, 5, 9, 6, 7, 8, 9, 10, 4, 7, 6, 9, 8, 7]\n",
        "\n",
        "# Calculate summary statistics\n",
        "mean_val = stats.mean(survey_scores)\n",
        "median_val = stats.median(survey_scores)\n",
        "mode_val = stats.mode(survey_scores)\n",
        "std_dev = np.std(survey_scores)\n",
        "\n",
        "print(\"Mean:\", mean_val)\n",
        "print(\"Median:\", median_val)\n",
        "print(\"Mode:\", mode_val)\n",
        "print(\"Standard Deviation:\", std_dev)\n",
        "\n",
        "# Draw histogram\n",
        "plt.hist(survey_scores, bins=6, edgecolor=\"black\")\n",
        "plt.title(\"Histogram of Customer Satisfaction Scores\")\n",
        "plt.xlabel(\"Survey Score (1-10)\")\n",
        "plt.ylabel(\"Frequency\")\n",
        "plt.show()\n"
      ],
      "metadata": {
        "colab": {
          "base_uri": "https://localhost:8080/",
          "height": 541
        },
        "id": "94i8r-2ou5uQ",
        "outputId": "47b4bc6a-a1c5-479f-a1a4-fd831d971d47"
      },
      "execution_count": 8,
      "outputs": [
        {
          "output_type": "stream",
          "name": "stdout",
          "text": [
            "Mean: 7.333333333333333\n",
            "Median: 7\n",
            "Mode: 7\n",
            "Standard Deviation: 1.577621275493231\n"
          ]
        },
        {
          "output_type": "display_data",
          "data": {
            "text/plain": [
              "<Figure size 640x480 with 1 Axes>"
            ],
            "image/png": "[encoded data removed]"
          },
          "metadata": {}
        }
      ]
    }
  ]
}